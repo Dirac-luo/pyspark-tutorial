{
 "cells": [
  {
   "cell_type": "code",
   "execution_count": 1,
   "id": "initial_id",
   "metadata": {
    "collapsed": true,
    "ExecuteTime": {
     "end_time": "2024-04-14T07:36:33.217607300Z",
     "start_time": "2024-04-14T07:36:26.362399500Z"
    }
   },
   "outputs": [],
   "source": [
    "from pyspark.sql import SparkSession\n",
    "from pyspark import SparkContext, SparkConf\n",
    "import findspark\n",
    "findspark.init()\n",
    "import warnings\n",
    "warnings.filterwarnings('ignore')\n",
    "# spark = SparkSession.builder.getOrCreate()\n",
    "conf = SparkConf().setAppName(\"test_rdd\").setMaster(\"local[*]\")\n",
    "sc = SparkContext(conf=conf)"
   ]
  },
  {
   "cell_type": "code",
   "execution_count": 2,
   "outputs": [],
   "source": [
    "data = [('A', 3), ('A', 4), ('A', -2),\n",
    "('B', -3), ('B', 4), ('B', 5),\n",
    "('C', 4),\n",
    "('D', -7), ('D', -9),\n",
    "('E', -5),\n",
    "('F', -2), ('F', 0)]"
   ],
   "metadata": {
    "collapsed": false,
    "ExecuteTime": {
     "end_time": "2024-04-14T07:37:00.903806900Z",
     "start_time": "2024-04-14T07:37:00.901772300Z"
    }
   },
   "id": "498ef94895bcf9b9"
  },
  {
   "cell_type": "code",
   "execution_count": 3,
   "outputs": [
    {
     "data": {
      "text/plain": "[('A', 3),\n ('A', 4),\n ('A', -2),\n ('B', -3),\n ('B', 4),\n ('B', 5),\n ('C', 4),\n ('D', -7),\n ('D', -9),\n ('E', -5),\n ('F', -2),\n ('F', 0)]"
     },
     "execution_count": 3,
     "metadata": {},
     "output_type": "execute_result"
    }
   ],
   "source": [
    "data"
   ],
   "metadata": {
    "collapsed": false,
    "ExecuteTime": {
     "end_time": "2024-04-14T07:37:13.063585200Z",
     "start_time": "2024-04-14T07:37:13.053418600Z"
    }
   },
   "id": "d59a7b0015a5ca2"
  },
  {
   "cell_type": "code",
   "execution_count": 4,
   "outputs": [],
   "source": [
    "rdd = sc.parallelize(data,3)"
   ],
   "metadata": {
    "collapsed": false,
    "ExecuteTime": {
     "end_time": "2024-04-14T07:37:40.849832500Z",
     "start_time": "2024-04-14T07:37:40.706413400Z"
    }
   },
   "id": "e436d5505e58b9b1"
  },
  {
   "cell_type": "code",
   "execution_count": 6,
   "outputs": [
    {
     "data": {
      "text/plain": "[('A', 3),\n ('A', 4),\n ('A', -2),\n ('B', -3),\n ('B', 4),\n ('B', 5),\n ('C', 4),\n ('D', -7),\n ('D', -9),\n ('E', -5),\n ('F', -2),\n ('F', 0)]"
     },
     "execution_count": 6,
     "metadata": {},
     "output_type": "execute_result"
    }
   ],
   "source": [
    "rdd.collect()"
   ],
   "metadata": {
    "collapsed": false,
    "ExecuteTime": {
     "end_time": "2024-04-14T07:37:56.143297500Z",
     "start_time": "2024-04-14T07:37:55.767955800Z"
    }
   },
   "id": "a8ba987dd0fd2131"
  },
  {
   "cell_type": "code",
   "execution_count": 7,
   "outputs": [],
   "source": [
    "count_data=rdd.mapValues(lambda x:(x,1))"
   ],
   "metadata": {
    "collapsed": false,
    "ExecuteTime": {
     "end_time": "2024-04-14T07:38:56.049104500Z",
     "start_time": "2024-04-14T07:38:56.043980200Z"
    }
   },
   "id": "fa6cde617667b343"
  },
  {
   "cell_type": "code",
   "execution_count": 8,
   "outputs": [
    {
     "data": {
      "text/plain": "[('A', (3, 1)),\n ('A', (4, 1)),\n ('A', (-2, 1)),\n ('B', (-3, 1)),\n ('B', (4, 1)),\n ('B', (5, 1)),\n ('C', (4, 1)),\n ('D', (-7, 1)),\n ('D', (-9, 1)),\n ('E', (-5, 1)),\n ('F', (-2, 1)),\n ('F', (0, 1))]"
     },
     "execution_count": 8,
     "metadata": {},
     "output_type": "execute_result"
    }
   ],
   "source": [
    "count_data.collect()"
   ],
   "metadata": {
    "collapsed": false,
    "ExecuteTime": {
     "end_time": "2024-04-14T07:39:06.626681300Z",
     "start_time": "2024-04-14T07:39:05.458605100Z"
    }
   },
   "id": "5894c51fe0da7462"
  },
  {
   "cell_type": "code",
   "execution_count": 9,
   "outputs": [
    {
     "data": {
      "text/plain": "[('E', -5.0),\n ('A', 1.6666666666666667),\n ('C', 4.0),\n ('D', -8.0),\n ('B', 2.0),\n ('F', -1.0)]"
     },
     "execution_count": 9,
     "metadata": {},
     "output_type": "execute_result"
    }
   ],
   "source": [
    "count_data.reduceByKey(lambda x,y:(x[0]+y[0],x[1]+y[1])).mapValues(lambda x: x[0]/x[1] ).collect()"
   ],
   "metadata": {
    "collapsed": false,
    "ExecuteTime": {
     "end_time": "2024-04-14T07:39:41.042623400Z",
     "start_time": "2024-04-14T07:39:38.652200200Z"
    }
   },
   "id": "9bea671bbd65c82a"
  },
  {
   "cell_type": "code",
   "execution_count": null,
   "outputs": [],
   "source": [],
   "metadata": {
    "collapsed": false
   },
   "id": "779c72f2bf56e2d9"
  }
 ],
 "metadata": {
  "kernelspec": {
   "display_name": "Python 3",
   "language": "python",
   "name": "python3"
  },
  "language_info": {
   "codemirror_mode": {
    "name": "ipython",
    "version": 2
   },
   "file_extension": ".py",
   "mimetype": "text/x-python",
   "name": "python",
   "nbconvert_exporter": "python",
   "pygments_lexer": "ipython2",
   "version": "2.7.6"
  }
 },
 "nbformat": 4,
 "nbformat_minor": 5
}
